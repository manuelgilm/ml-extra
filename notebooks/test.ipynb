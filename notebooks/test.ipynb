{
 "cells": [
  {
   "cell_type": "code",
   "execution_count": 32,
   "metadata": {},
   "outputs": [],
   "source": [
    "from mlflow_extra.loggers.code import check_logged_code\n",
    "from mlflow_extra.loggers.code import append_code\n",
    "from mlflow_extra.tests.testing_functions import do_something\n",
    "from mlflow_extra.experiments.utils import get_or_create_experiment\n",
    "import tempfile\n",
    "import os\n",
    "import inspect"
   ]
  },
  {
   "cell_type": "code",
   "execution_count": 5,
   "metadata": {},
   "outputs": [],
   "source": [
    "experiment = get_or_create_experiment(\"example_experiment\")"
   ]
  },
  {
   "cell_type": "code",
   "execution_count": 6,
   "metadata": {},
   "outputs": [],
   "source": [
    "import mlflow"
   ]
  },
  {
   "cell_type": "code",
   "execution_count": 21,
   "metadata": {},
   "outputs": [],
   "source": [
    "\n",
    "run = mlflow.get_run(\"3bed9459ac104a1baaf011f541afdc28\")"
   ]
  },
  {
   "cell_type": "code",
   "execution_count": 28,
   "metadata": {},
   "outputs": [
    {
     "data": {
      "text/plain": [
       "'c:\\\\Users\\\\manue\\\\projects\\\\mlflow_extra\\\\notebooks\\\\mlflow_extra/tests/testing_functions.py'"
      ]
     },
     "execution_count": 28,
     "metadata": {},
     "output_type": "execute_result"
    }
   ],
   "source": [
    "module_name = \"mlflow_extra/tests/testing_functions.py\"\n",
    "mlflow.artifacts.download_artifacts(run_id = run.info.run_id,artifact_path=module_name, dst_path=\".\")"
   ]
  },
  {
   "cell_type": "code",
   "execution_count": 41,
   "metadata": {},
   "outputs": [],
   "source": [
    "def add(a,b):\n",
    "    return a+b"
   ]
  },
  {
   "cell_type": "code",
   "execution_count": 42,
   "metadata": {},
   "outputs": [
    {
     "name": "stdout",
     "output_type": "stream",
     "text": [
      "def add(a,b):\n",
      "    return a+b\n",
      "\n"
     ]
    }
   ],
   "source": [
    "import os\n",
    "def append_code(run, func):\n",
    "    module_name = func.__module__\n",
    "    with tempfile.TemporaryDirectory() as tmpdirname:\n",
    "        mlflow.artifacts.download_artifacts(run_id = run.info.run_id, artifact_path= \"mlflow_extra/tests/testing_functions.py\", dst_path=tmpdirname)\n",
    "        # print(os.listdir(tmpdirname))\n",
    "        with open(tmpdirname + \"/\" + \"mlflow_extra/tests/testing_functions.py\", \"r\") as f:\n",
    "            code = f.read()\n",
    "            func_code = inspect.getsource(func)\n",
    "            print(func_code)\n",
    "            full_code = \"\\n\\n\".join([code, func_code])\n",
    "    return full_code\n",
    "full_code = append_code(run, add)        \n"
   ]
  },
  {
   "cell_type": "code",
   "execution_count": 50,
   "metadata": {},
   "outputs": [],
   "source": [
    "from pathlib import Path\n",
    "\n",
    "module_path = Path(\"mlflow_extra/tests/testing_functions.py\")\n",
    "\n",
    "files = mlflow.artifacts.list_artifacts(run_id = run.info.run_id, artifact_path= module_path.parent)"
   ]
  },
  {
   "cell_type": "code",
   "execution_count": 54,
   "metadata": {},
   "outputs": [
    {
     "data": {
      "text/plain": [
       "['mlflow_extra/tests/testing_classes.py',\n",
       " 'mlflow_extra/tests/testing_functions.py']"
      ]
     },
     "execution_count": 54,
     "metadata": {},
     "output_type": "execute_result"
    }
   ],
   "source": [
    "[file.path for file in files]"
   ]
  },
  {
   "cell_type": "code",
   "execution_count": 60,
   "metadata": {},
   "outputs": [
    {
     "data": {
      "text/plain": [
       "'mlflow_extra/tests/testing_functions.py'"
      ]
     },
     "execution_count": 60,
     "metadata": {},
     "output_type": "execute_result"
    }
   ],
   "source": [
    "module_path.as_posix()"
   ]
  },
  {
   "cell_type": "code",
   "execution_count": 29,
   "metadata": {},
   "outputs": [],
   "source": [
    "from typing import Union \n",
    "from typing import Tuple\n",
    "from datetime import datetime\n",
    "from pathlib import Path\n",
    "\n",
    "def encode_file(name: Union[Path, str]) -> str:\n",
    "    \"\"\"\n",
    "    Encode a name with a timestamp.\n",
    "    \n",
    "    :param name: Name to encode.\n",
    "    :return: Encoded name.\n",
    "    \"\"\"\n",
    "    if isinstance(name, str):\n",
    "        name = Path(name)\n",
    "\n",
    "    if isinstance(name, Path):\n",
    "        if not name.suffix:\n",
    "            raise ValueError(\"The file must have a suffix.\")\n",
    "    suffix = name.suffix\n",
    "    name = name.stem\n",
    "    timestamp = datetime.now().strftime(\"%Y%m%d%H%M%S\")\n",
    "    return f\"{name}_{timestamp}{suffix}\"\n",
    "\n",
    "def decode_filename(name: Union[str, Path]) -> Tuple[str, datetime]:\n",
    "    \"\"\"\n",
    "    Return the original name and the date from the encoded name.\n",
    "\n",
    "    :param name: Encoded name.\n",
    "    :return: Original name and date.\n",
    "    \"\"\"\n",
    "    if isinstance(name, str):\n",
    "        filename = Path(name)\n",
    "    if isinstance(filename, Path):\n",
    "        name = filename.stem\n",
    "    name_comp = name.split(\"_\")\n",
    "    name = \"_\".join(name_comp[:-1]) + filename.suffix\n",
    "    timestamp = name_comp[-1]\n",
    "    \n",
    "    timestamp = datetime.strptime(timestamp, \"%Y%m%d%H%M%S\")\n",
    "    return name, timestamp\n"
   ]
  },
  {
   "cell_type": "code",
   "execution_count": 30,
   "metadata": {},
   "outputs": [],
   "source": [
    "path = \"another/folder/filename.py\"\n",
    "encoded_name = encode_file(path)"
   ]
  },
  {
   "cell_type": "code",
   "execution_count": 31,
   "metadata": {},
   "outputs": [
    {
     "ename": "AttributeError",
     "evalue": "'str' object has no attribute 'suffix'",
     "output_type": "error",
     "traceback": [
      "\u001b[1;31m---------------------------------------------------------------------------\u001b[0m",
      "\u001b[1;31mAttributeError\u001b[0m                            Traceback (most recent call last)",
      "Cell \u001b[1;32mIn[31], line 1\u001b[0m\n\u001b[1;32m----> 1\u001b[0m decoded_name, timestamp \u001b[38;5;241m=\u001b[39m \u001b[43mdecode_filename\u001b[49m\u001b[43m(\u001b[49m\u001b[43mencoded_name\u001b[49m\u001b[43m)\u001b[49m \n",
      "Cell \u001b[1;32mIn[29], line 36\u001b[0m, in \u001b[0;36mdecode_filename\u001b[1;34m(name)\u001b[0m\n\u001b[0;32m     34\u001b[0m     name \u001b[38;5;241m=\u001b[39m name\u001b[38;5;241m.\u001b[39mstem\n\u001b[0;32m     35\u001b[0m name_comp \u001b[38;5;241m=\u001b[39m name\u001b[38;5;241m.\u001b[39msplit(\u001b[38;5;124m\"\u001b[39m\u001b[38;5;124m_\u001b[39m\u001b[38;5;124m\"\u001b[39m)\n\u001b[1;32m---> 36\u001b[0m name \u001b[38;5;241m=\u001b[39m \u001b[38;5;124m\"\u001b[39m\u001b[38;5;124m_\u001b[39m\u001b[38;5;124m\"\u001b[39m\u001b[38;5;241m.\u001b[39mjoin(name_comp[:\u001b[38;5;241m-\u001b[39m\u001b[38;5;241m1\u001b[39m]) \u001b[38;5;241m+\u001b[39m \u001b[43mname\u001b[49m\u001b[38;5;241;43m.\u001b[39;49m\u001b[43msuffix\u001b[49m\n\u001b[0;32m     37\u001b[0m timestamp \u001b[38;5;241m=\u001b[39m name_comp[\u001b[38;5;241m-\u001b[39m\u001b[38;5;241m1\u001b[39m]\n\u001b[0;32m     39\u001b[0m timestamp \u001b[38;5;241m=\u001b[39m datetime\u001b[38;5;241m.\u001b[39mstrptime(timestamp, \u001b[38;5;124m\"\u001b[39m\u001b[38;5;124m%\u001b[39m\u001b[38;5;124mY\u001b[39m\u001b[38;5;124m%\u001b[39m\u001b[38;5;124mm\u001b[39m\u001b[38;5;132;01m%d\u001b[39;00m\u001b[38;5;124m%\u001b[39m\u001b[38;5;124mH\u001b[39m\u001b[38;5;124m%\u001b[39m\u001b[38;5;124mM\u001b[39m\u001b[38;5;124m%\u001b[39m\u001b[38;5;124mS\u001b[39m\u001b[38;5;124m\"\u001b[39m)\n",
      "\u001b[1;31mAttributeError\u001b[0m: 'str' object has no attribute 'suffix'"
     ]
    }
   ],
   "source": [
    "decoded_name, timestamp = decode_filename(encoded_name) "
   ]
  },
  {
   "cell_type": "code",
   "execution_count": 28,
   "metadata": {},
   "outputs": [
    {
     "data": {
      "text/plain": [
       "'filename'"
      ]
     },
     "execution_count": 28,
     "metadata": {},
     "output_type": "execute_result"
    }
   ],
   "source": [
    "decoded_name"
   ]
  },
  {
   "cell_type": "code",
   "execution_count": null,
   "metadata": {},
   "outputs": [],
   "source": []
  }
 ],
 "metadata": {
  "kernelspec": {
   "display_name": ".venv",
   "language": "python",
   "name": "python3"
  },
  "language_info": {
   "codemirror_mode": {
    "name": "ipython",
    "version": 3
   },
   "file_extension": ".py",
   "mimetype": "text/x-python",
   "name": "python",
   "nbconvert_exporter": "python",
   "pygments_lexer": "ipython3",
   "version": "3.11.8"
  }
 },
 "nbformat": 4,
 "nbformat_minor": 2
}
