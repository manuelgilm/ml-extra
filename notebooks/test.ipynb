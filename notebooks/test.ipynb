{
 "cells": [
  {
   "cell_type": "code",
   "execution_count": 32,
   "metadata": {},
   "outputs": [],
   "source": [
    "from mlflow_extra.loggers.code import check_logged_code\n",
    "from mlflow_extra.loggers.code import append_code\n",
    "from mlflow_extra.tests.testing_functions import do_something\n",
    "from mlflow_extra.experiments.utils import get_or_create_experiment\n",
    "import tempfile\n",
    "import os\n",
    "import inspect"
   ]
  },
  {
   "cell_type": "code",
   "execution_count": 5,
   "metadata": {},
   "outputs": [],
   "source": [
    "experiment = get_or_create_experiment(\"example_experiment\")"
   ]
  },
  {
   "cell_type": "code",
   "execution_count": 6,
   "metadata": {},
   "outputs": [],
   "source": [
    "import mlflow"
   ]
  },
  {
   "cell_type": "code",
   "execution_count": 21,
   "metadata": {},
   "outputs": [],
   "source": [
    "\n",
    "run = mlflow.get_run(\"3bed9459ac104a1baaf011f541afdc28\")"
   ]
  },
  {
   "cell_type": "code",
   "execution_count": 28,
   "metadata": {},
   "outputs": [
    {
     "data": {
      "text/plain": [
       "'c:\\\\Users\\\\manue\\\\projects\\\\mlflow_extra\\\\notebooks\\\\mlflow_extra/tests/testing_functions.py'"
      ]
     },
     "execution_count": 28,
     "metadata": {},
     "output_type": "execute_result"
    }
   ],
   "source": [
    "module_name = \"mlflow_extra/tests/testing_functions.py\"\n",
    "mlflow.artifacts.download_artifacts(run_id = run.info.run_id,artifact_path=module_name, dst_path=\".\")"
   ]
  },
  {
   "cell_type": "code",
   "execution_count": 41,
   "metadata": {},
   "outputs": [],
   "source": [
    "def add(a,b):\n",
    "    return a+b"
   ]
  },
  {
   "cell_type": "code",
   "execution_count": 42,
   "metadata": {},
   "outputs": [
    {
     "name": "stdout",
     "output_type": "stream",
     "text": [
      "def add(a,b):\n",
      "    return a+b\n",
      "\n"
     ]
    }
   ],
   "source": [
    "import os\n",
    "def append_code(run, func):\n",
    "    module_name = func.__module__\n",
    "    with tempfile.TemporaryDirectory() as tmpdirname:\n",
    "        mlflow.artifacts.download_artifacts(run_id = run.info.run_id, artifact_path= \"mlflow_extra/tests/testing_functions.py\", dst_path=tmpdirname)\n",
    "        # print(os.listdir(tmpdirname))\n",
    "        with open(tmpdirname + \"/\" + \"mlflow_extra/tests/testing_functions.py\", \"r\") as f:\n",
    "            code = f.read()\n",
    "            func_code = inspect.getsource(func)\n",
    "            print(func_code)\n",
    "            full_code = \"\\n\\n\".join([code, func_code])\n",
    "    return full_code\n",
    "full_code = append_code(run, add)        \n"
   ]
  },
  {
   "cell_type": "code",
   "execution_count": 50,
   "metadata": {},
   "outputs": [],
   "source": [
    "from pathlib import Path\n",
    "\n",
    "module_path = Path(\"mlflow_extra/tests/testing_functions.py\")\n",
    "\n",
    "files = mlflow.artifacts.list_artifacts(run_id = run.info.run_id, artifact_path= module_path.parent)"
   ]
  },
  {
   "cell_type": "code",
   "execution_count": 54,
   "metadata": {},
   "outputs": [
    {
     "data": {
      "text/plain": [
       "['mlflow_extra/tests/testing_classes.py',\n",
       " 'mlflow_extra/tests/testing_functions.py']"
      ]
     },
     "execution_count": 54,
     "metadata": {},
     "output_type": "execute_result"
    }
   ],
   "source": [
    "[file.path for file in files]"
   ]
  },
  {
   "cell_type": "code",
   "execution_count": 60,
   "metadata": {},
   "outputs": [
    {
     "data": {
      "text/plain": [
       "'mlflow_extra/tests/testing_functions.py'"
      ]
     },
     "execution_count": 60,
     "metadata": {},
     "output_type": "execute_result"
    }
   ],
   "source": [
    "module_path.as_posix()"
   ]
  },
  {
   "cell_type": "code",
   "execution_count": null,
   "metadata": {},
   "outputs": [],
   "source": []
  }
 ],
 "metadata": {
  "kernelspec": {
   "display_name": ".venv",
   "language": "python",
   "name": "python3"
  },
  "language_info": {
   "codemirror_mode": {
    "name": "ipython",
    "version": 3
   },
   "file_extension": ".py",
   "mimetype": "text/x-python",
   "name": "python",
   "nbconvert_exporter": "python",
   "pygments_lexer": "ipython3",
   "version": "3.11.8"
  }
 },
 "nbformat": 4,
 "nbformat_minor": 2
}
