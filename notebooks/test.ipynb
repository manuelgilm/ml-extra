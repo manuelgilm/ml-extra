{
 "cells": [
  {
   "cell_type": "code",
   "execution_count": null,
   "metadata": {},
   "outputs": [],
   "source": [
    "from mlflow_extra.loggers.code import check_logged_code\n",
    "from mlflow_extra.loggers.code import append_code\n",
    "from mlflow_extra.tests.testing_functions import do_something\n",
    "from mlflow_extra.experiments.utils import get_or_create_experiment\n",
    "import tempfile\n",
    "import os\n",
    "import inspect"
   ]
  },
  {
   "cell_type": "code",
   "execution_count": null,
   "metadata": {},
   "outputs": [],
   "source": [
    "experiment = get_or_create_experiment(\"example_experiment\")"
   ]
  },
  {
   "cell_type": "code",
   "execution_count": null,
   "metadata": {},
   "outputs": [],
   "source": [
    "import mlflow"
   ]
  },
  {
   "cell_type": "code",
   "execution_count": null,
   "metadata": {},
   "outputs": [],
   "source": [
    "\n",
    "run = mlflow.get_run(\"3bed9459ac104a1baaf011f541afdc28\")"
   ]
  },
  {
   "cell_type": "code",
   "execution_count": null,
   "metadata": {},
   "outputs": [],
   "source": [
    "module_name = \"mlflow_extra/tests/testing_functions.py\"\n",
    "mlflow.artifacts.download_artifacts(run_id = run.info.run_id,artifact_path=module_name, dst_path=\".\")"
   ]
  },
  {
   "cell_type": "code",
   "execution_count": null,
   "metadata": {},
   "outputs": [],
   "source": [
    "def add(a,b):\n",
    "    return a+b"
   ]
  },
  {
   "cell_type": "code",
   "execution_count": null,
   "metadata": {},
   "outputs": [],
   "source": [
    "import os\n",
    "def append_code(run, func):\n",
    "    module_name = func.__module__\n",
    "    with tempfile.TemporaryDirectory() as tmpdirname:\n",
    "        mlflow.artifacts.download_artifacts(run_id = run.info.run_id, artifact_path= \"mlflow_extra/tests/testing_functions.py\", dst_path=tmpdirname)\n",
    "        # print(os.listdir(tmpdirname))\n",
    "        with open(tmpdirname + \"/\" + \"mlflow_extra/tests/testing_functions.py\", \"r\") as f:\n",
    "            code = f.read()\n",
    "            func_code = inspect.getsource(func)\n",
    "            print(func_code)\n",
    "            full_code = \"\\n\\n\".join([code, func_code])\n",
    "    return full_code\n",
    "full_code = append_code(run, add)        \n"
   ]
  },
  {
   "cell_type": "code",
   "execution_count": null,
   "metadata": {},
   "outputs": [],
   "source": [
    "from pathlib import Path\n",
    "\n",
    "module_path = Path(\"mlflow_extra/tests/testing_functions.py\")\n",
    "\n",
    "files = mlflow.artifacts.list_artifacts(run_id = run.info.run_id, artifact_path= module_path.parent)"
   ]
  },
  {
   "cell_type": "code",
   "execution_count": null,
   "metadata": {},
   "outputs": [],
   "source": [
    "[file.path for file in files]"
   ]
  },
  {
   "cell_type": "code",
   "execution_count": null,
   "metadata": {},
   "outputs": [],
   "source": [
    "module_path.as_posix()"
   ]
  },
  {
   "cell_type": "code",
   "execution_count": null,
   "metadata": {},
   "outputs": [],
   "source": [
    "from typing import Union \n",
    "from typing import Tuple\n",
    "from datetime import datetime\n",
    "from pathlib import Path\n",
    "\n",
    "def encode_file(name: Union[Path, str]) -> str:\n",
    "    \"\"\"\n",
    "    Encode a name with a timestamp.\n",
    "    \n",
    "    :param name: Name to encode.\n",
    "    :return: Encoded name.\n",
    "    \"\"\"\n",
    "    if isinstance(name, str):\n",
    "        name = Path(name)\n",
    "\n",
    "    if isinstance(name, Path):\n",
    "        if not name.suffix:\n",
    "            raise ValueError(\"The file must have a suffix.\")\n",
    "    suffix = name.suffix\n",
    "    name = name.stem\n",
    "    timestamp = datetime.now().strftime(\"%Y%m%d%H%M%S\")\n",
    "    return f\"{name}_{timestamp}{suffix}\"\n",
    "\n",
    "def decode_filename(name: Union[str, Path]) -> Tuple[str, datetime]:\n",
    "    \"\"\"\n",
    "    Return the original name and the date from the encoded name.\n",
    "\n",
    "    :param name: Encoded name.\n",
    "    :return: Original name and date.\n",
    "    \"\"\"\n",
    "    if isinstance(name, str):\n",
    "        filename = Path(name)\n",
    "    if isinstance(filename, Path):\n",
    "        name = filename.stem\n",
    "    name_comp = name.split(\"_\")\n",
    "    name = \"_\".join(name_comp[:-1]) + filename.suffix\n",
    "    timestamp = name_comp[-1]\n",
    "    \n",
    "    timestamp = datetime.strptime(timestamp, \"%Y%m%d%H%M%S\")\n",
    "    return name, timestamp\n"
   ]
  },
  {
   "cell_type": "code",
   "execution_count": null,
   "metadata": {},
   "outputs": [],
   "source": [
    "path = \"another/folder/filename.py\"\n",
    "encoded_name = encode_file(path)"
   ]
  },
  {
   "cell_type": "code",
   "execution_count": null,
   "metadata": {},
   "outputs": [],
   "source": [
    "decoded_name, timestamp = decode_filename(encoded_name) "
   ]
  },
  {
   "cell_type": "code",
   "execution_count": 3,
   "metadata": {},
   "outputs": [],
   "source": [
    "from ml_extra.plots.classification import get_roc_curve\n",
    "from ml_extra.plots.classification import get_precision_recall_curve\n",
    "from ml_extra.loggers.artifacts.classfication import log_classification_artifacts\n",
    "\n",
    "from ml_extra.tests.testing_functions import do_something\n",
    "from ml_extra.experiments.utils import get_or_create_experiment"
   ]
  },
  {
   "cell_type": "code",
   "execution_count": 5,
   "metadata": {},
   "outputs": [
    {
     "data": {
      "image/png": "[encoded data removed]",
      "text/plain": [
       "<Figure size 1500x500 with 1 Axes>"
      ]
     },
     "metadata": {},
     "output_type": "display_data"
    }
   ],
   "source": [
    "from sklearn.datasets import make_classification\n",
    "from sklearn.model_selection import train_test_split\n",
    "from sklearn.ensemble import RandomForestClassifier\n",
    "x , y = make_classification(n_samples=10000, n_features=10,n_informative=5, n_classes=2)\n",
    "\n",
    "x_train, x_test, y_train, y_test = train_test_split(x, y, test_size=0.2)    \n",
    "\n",
    "clf = RandomForestClassifier()\n",
    "clf.fit(x_train, y_train)\n",
    "\n",
    "predictions = clf.predict(x_test)\n",
    "fig = get_roc_curve(y_test, predictions, name=\"roc_curve\")"
   ]
  },
  {
   "cell_type": "code",
   "execution_count": null,
   "metadata": {},
   "outputs": [],
   "source": [
    "experiment = get_or_create_experiment(\"example_experiment\")\n",
    "with mlflow.start_run(experiment_id=experiment.experiment_id) as run:\n",
    "    log_classification_artifacts(run, y_test, predictions, x_test, clf, name=\"classification\", path=\"another/folder/filename.py\")\n"
   ]
  },
  {
   "cell_type": "code",
   "execution_count": null,
   "metadata": {},
   "outputs": [],
   "source": []
  }
 ],
 "metadata": {
  "kernelspec": {
   "display_name": ".venv",
   "language": "python",
   "name": "python3"
  },
  "language_info": {
   "codemirror_mode": {
    "name": "ipython",
    "version": 3
   },
   "file_extension": ".py",
   "mimetype": "text/x-python",
   "name": "python",
   "nbconvert_exporter": "python",
   "pygments_lexer": "ipython3",
   "version": "3.11.8"
  }
 },
 "nbformat": 4,
 "nbformat_minor": 2
}
